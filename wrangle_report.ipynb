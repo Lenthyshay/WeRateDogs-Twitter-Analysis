{
 "cells": [
  {
   "cell_type": "markdown",
   "metadata": {},
   "source": [
    "## WeRateDogs Twitter Archive - Wrangle\n",
    "##### Udacity - Data Analyst Nanodegree\n",
    "`Oluwaseyi Afolayan`"
   ]
  },
  {
   "cell_type": "markdown",
   "metadata": {},
   "source": [
    "## Wrangle Report"
   ]
  },
  {
   "cell_type": "markdown",
   "metadata": {},
   "source": [
    "In this report I outline the wrangling efforts to assemble and clean the data required for analysis of the\n",
    "WeRateDogs Twitter Archive.\n",
    "\n",
    "### Data Gathering\n",
    "\n",
    "I gathered data from 3 sources, stored in separate files:\n",
    "\n",
    "1. WeRateDogs Twitter Enhanced archive, manually downloaded from the Udacity servers.\n",
    "2. The image predictions file, programmatically downloaded from the Udacity servers.\n",
    "3. The entire set of each tweets’ JSON data, downloaded by querying the Twitter API using the Tweepy\n",
    "library. The favourite_count and retweet_count were extracted programmatically from this file.\n",
    "I loaded the 3 raw data files into separate tables: archive, predictions and tweet_data."
   ]
  },
  {
   "cell_type": "markdown",
   "metadata": {},
   "source": [
    "### Assessment & Cleaning\n",
    "\n",
    "I began the assessment by viewing the information on the `archive` table first, identifying several quality and\n",
    "tidiness issues.\n",
    "\n",
    "All rows containing non-null values in the retweeted_status_id , retweeted_status_user_id and\n",
    "retweeted_status_timestamp , and also in the in_reply_to_status_id and in_reply_to_user_id\n",
    "columns were dropped, as per the requirements. These columns were then also dropped.\n",
    "\n",
    "The timestamp column was converted to datetime data type.\n",
    "\n",
    "The 4 dog stage columns were melted into the stage column; tweets without stages were set to ‘none’.\n",
    "\n",
    "Several had 2 stages set, so I kept only the one with the lower overall count.\n",
    "\n",
    "The html strings in the source column were replaced with the display portion of itself.\n",
    "\n",
    "The rating_numerator and rating_denominator columns were checked for value ranges; I decided to keep\n",
    "only tweets with single ratings. Several tweets’ ratings were manually corrected with values from the text.\n",
    "Tweets with large numerators were dropped, as the text didn’t contain a valid rating (# out of 10). After the\n",
    "ratings were fixed, I dropped the rating_denominator column (it contained only ‘10’s) and renamed the\n",
    "rating_numerator column to rating.\n",
    "\n",
    "The odd words in the name column were replaced with ‘none’.\n",
    "\n",
    "Tweets with missing values in expanded_urls , (not retweets or replies) were actually missing the urls from\n",
    "the text itself. These tweets were dropped, and then the column itself.\n",
    "\n",
    "The `predictions` table itself was not cleaned. There were many tweets with no dog breed predicted, these\n",
    "were left as is. The best prediction for breed and associated confidence level were extracted and merged\n",
    "into the archive table.\n",
    "\n",
    "The `tweet_data` table itself was not cleaned. The retweet_count and favorite_count columns were merged\n",
    "into the archive table, and the data type reset to int. One tweet was missing both counts so was dropped.\n",
    "\n",
    "The remaining cleaned columns in the archive table were reordered, then the table was saved to the new\n",
    "“twitter_archive_master.csv” file. The predictions and json_data tables had not been cleaned, so were not\n",
    "saved."
   ]
  },
  {
   "cell_type": "code",
   "execution_count": null,
   "metadata": {},
   "outputs": [],
   "source": []
  }
 ],
 "metadata": {
  "kernelspec": {
   "display_name": "Python 3",
   "language": "python",
   "name": "python3"
  },
  "language_info": {
   "codemirror_mode": {
    "name": "ipython",
    "version": 3
   },
   "file_extension": ".py",
   "mimetype": "text/x-python",
   "name": "python",
   "nbconvert_exporter": "python",
   "pygments_lexer": "ipython3",
   "version": "3.6.3"
  }
 },
 "nbformat": 4,
 "nbformat_minor": 2
}
