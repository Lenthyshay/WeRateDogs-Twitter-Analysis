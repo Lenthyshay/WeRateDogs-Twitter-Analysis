{
 "cells": [
  {
   "cell_type": "markdown",
   "metadata": {},
   "source": [
    "## Report: act_report\n",
    "##### Udacity - Data Analyst Nanodegree\n",
    "`Oluwaseyi Afolayan`"
   ]
  },
  {
   "cell_type": "markdown",
   "metadata": {},
   "source": [
    "### WeRateDogs Twitter Analysis\n",
    "\n",
    "WeRateDogs is a Twitter account that posts and rates pictures of dogs. These ratings often are not serious and have numerators that are greater than the denominators.\n",
    "<br>In my analysis, I examined WeRateDogs's archive through August 1, 2017. Most of the necessary Twitter data was provided by Udacity. In addition, Udacity ran the images on WeRateDogs's account through a neural network to generate three predictions for each image. After wrangling the data for original content with images, I wanted to answer the following questions:\n",
    "\n",
    "- What are the Top 10 breed of dogs tweeted about?\n",
    "- What dog breed got the highest retweet and favorite interactions?\n",
    "- What is the correlation between ratings and the interactions by Twitter users?\n",
    "- What is the weekly trend of interactions with WeRateDogs's posts?"
   ]
  },
  {
   "cell_type": "markdown",
   "metadata": {},
   "source": [
    "### Question 1: What are the Top 10 breed of dogs tweeted about?\n",
    "\n",
    "I analyzed the WerateDogs tweet data and had to consider only the predicted observations of breeds."
   ]
  },
  {
   "cell_type": "code",
   "execution_count": 11,
   "metadata": {},
   "outputs": [
    {
     "name": "stdout",
     "output_type": "stream",
     "text": [
      "/bin/sh: 1: Syntax error: \"(\" unexpected\r\n"
     ]
    }
   ],
   "source": [
    "![Top 10 Ratings Barplot](Top 10 Ratings Barplot.png)"
   ]
  },
  {
   "cell_type": "markdown",
   "metadata": {},
   "source": [
    "- The bar chart above shows that the most common dog that is tweeted about, with almost 160 tweets, is the Golden Retriever, as identified (predicted) by the neural network. \n",
    "- Labrador Retrievers, Pembrokes and Chihuahuas are fairly close together in 2nd, 3rd, and 4th place. "
   ]
  },
  {
   "cell_type": "markdown",
   "metadata": {},
   "source": [
    "### Question 2 : What dog breed got the highest retweet and favorite interactions?\n",
    "\n",
    "I checked on average Re-tweet and Favorite Count for top 10 breed. The breed being re-tweeted and favored most on average is considered as WOW breed. I investigated by filtering data and removing outliers, then grouped by breed, aggregating the sum and calculate average retweet count & favorite count for each filtered breed."
   ]
  },
  {
   "cell_type": "code",
   "execution_count": 6,
   "metadata": {},
   "outputs": [
    {
     "name": "stdout",
     "output_type": "stream",
     "text": [
      "/bin/sh: 1: Syntax error: \"(\" unexpected\r\n"
     ]
    }
   ],
   "source": [
    "![Top 10 Average Retweet]('Top 10 Average Retweet.png')"
   ]
  },
  {
   "cell_type": "markdown",
   "metadata": {},
   "source": [
    "- There is not much difference between the top 10 when looking at average retweet count. The noticable top breed being retweeted is the French Bulldog."
   ]
  },
  {
   "cell_type": "code",
   "execution_count": 7,
   "metadata": {},
   "outputs": [
    {
     "name": "stdout",
     "output_type": "stream",
     "text": [
      "/bin/sh: 1: Syntax error: \"(\" unexpected\r\n"
     ]
    }
   ],
   "source": [
    "![Top 10 Average Favourite]('Top 10 Average Favourite.png')"
   ]
  },
  {
   "cell_type": "markdown",
   "metadata": {},
   "source": [
    "- This visualization shows that French bulldogs have a large margin compared to the rest of the top 10 when it comes to the average tweet activity per post."
   ]
  },
  {
   "cell_type": "markdown",
   "metadata": {},
   "source": [
    "### Question 3: What is the correlation between ratings and the interactions by Twitter users?\n",
    "\n",
    "I will plot the average ratings against the average Twitter activity only for eligible breeds to see if there is any correlation."
   ]
  },
  {
   "cell_type": "code",
   "execution_count": 12,
   "metadata": {},
   "outputs": [
    {
     "name": "stdout",
     "output_type": "stream",
     "text": [
      "/bin/sh: 1: Syntax error: \"(\" unexpected\r\n"
     ]
    }
   ],
   "source": [
    "![Top 10 favorite vs retweet count with ratingt](Top 10 favorite vs retweet count with rating.png)"
   ]
  },
  {
   "cell_type": "markdown",
   "metadata": {},
   "source": [
    "- This plot is showing there is a positive correlation between retweet counts and favorite counts.\n",
    "- The tightly packed points follow a distinct linear trend with a positive slope, so as favorite count increases so does the retweet count.\n",
    "- Tweets with high favorite counts and high retweet counts also have higher ratings, as shown by the concentration of blue points."
   ]
  },
  {
   "cell_type": "markdown",
   "metadata": {},
   "source": [
    "### Question 4 : What is the weekly trend of interactions with WeRateDogs's posts?\n",
    "\n",
    "To answer this question, I will need to find the day of the week of each timestamp, and then aggregate the mean."
   ]
  },
  {
   "cell_type": "code",
   "execution_count": 9,
   "metadata": {},
   "outputs": [
    {
     "name": "stdout",
     "output_type": "stream",
     "text": [
      "/bin/sh: 1: Syntax error: \"(\" unexpected\r\n"
     ]
    }
   ],
   "source": [
    "![Top 10 Average retweet & favorite count.png]('Top 10 Average retweet & favorite count.png')"
   ]
  },
  {
   "cell_type": "markdown",
   "metadata": {},
   "source": [
    "- The retweet and Favorite Count on average increases gradually from Monday - Wednesday\n",
    "- The count mostly drops during Mid-Week (Thursday) on average and then increases again before slight drop on Sunday."
   ]
  },
  {
   "cell_type": "markdown",
   "metadata": {},
   "source": [
    "### Question 5 : Which stage of dogs got the most interactions?\n",
    "\n",
    "We are only considering the observations classified for stage. The data will be grouped by `stage` and then the sum will be aggregated."
   ]
  },
  {
   "cell_type": "code",
   "execution_count": 13,
   "metadata": {},
   "outputs": [
    {
     "name": "stdout",
     "output_type": "stream",
     "text": [
      "/bin/sh: 1: Syntax error: \"(\" unexpected\r\n"
     ]
    }
   ],
   "source": [
    "![Average Favorite & Retweet Count for Different Stages]('Average Favorite & Retweet Count for Different Stages')"
   ]
  },
  {
   "cell_type": "markdown",
   "metadata": {},
   "source": [
    "- Most rated & favorited stage of dog is puppo\n",
    "- Most retweeted stage of dog is doggo"
   ]
  },
  {
   "cell_type": "markdown",
   "metadata": {},
   "source": [
    "### Conclusion"
   ]
  },
  {
   "cell_type": "markdown",
   "metadata": {},
   "source": [
    "1. Noticable top breeds being tweeted are, Golden retriver, Labrador Retriever, Pembroke, Chihuahua, Pug, Toy Poodle and Chow\n",
    "2. Every other breeds gradually decreases in count\n",
    "3. Noticable top 5 rated breeds are, Samoyed, Golden Retriever, Great Pyrenees, Pembroke, and Chow in order\n",
    "4. Noticable top breed being retweeted and favored is, French Bulldog\n",
    "5. Most rated & favorited stage of dog is puppo\n",
    "6. Most retweeted stage of dog is doggo\n",
    "7. Adding hashtags has a greater impact in retweet count & favorite count on average\n",
    "8. Retweet and Favorite Count on average increases gradually from Monday - Wednesday\n",
    "9. Sudden drop in Retweet and Favorite Count in Mid-Week (Thursday) on average\n",
    "10. Gradually increases again before slight drop on Sunday\n",
    "11. Rating very less likely to impact Retweet and Favorite Count\n",
    "12. Retweets and Favorites are highly correlated"
   ]
  },
  {
   "cell_type": "code",
   "execution_count": null,
   "metadata": {},
   "outputs": [],
   "source": []
  }
 ],
 "metadata": {
  "kernelspec": {
   "display_name": "Python 3",
   "language": "python",
   "name": "python3"
  },
  "language_info": {
   "codemirror_mode": {
    "name": "ipython",
    "version": 3
   },
   "file_extension": ".py",
   "mimetype": "text/x-python",
   "name": "python",
   "nbconvert_exporter": "python",
   "pygments_lexer": "ipython3",
   "version": "3.6.3"
  }
 },
 "nbformat": 4,
 "nbformat_minor": 2
}
